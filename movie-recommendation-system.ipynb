{
 "cells": [
  {
   "cell_type": "code",
   "execution_count": 1,
   "outputs": [],
   "source": [
    "import requests\n",
    "import pandas as pd\n",
    "import numpy as np\n",
    "import matplotlib.pyplot as plt\n",
    "import seaborn as sns\n",
    "%matplotlib inline\n",
    "import pyspark\n",
    "from pyspark.sql import *\n",
    "from pyspark.sql.types import *\n",
    "from pyspark.sql.functions import *\n",
    "import pyspark.sql.functions as func\n",
    "from pyspark import SparkContext, SparkConf\n",
    "from pyspark.sql.functions import mean, min, max\n"
   ],
   "metadata": {
    "collapsed": false,
    "pycharm": {
     "name": "#%%\n"
    }
   }
  },
  {
   "cell_type": "code",
   "execution_count": 2,
   "outputs": [],
   "source": [
    "conf = SparkConf().set(\"spark.ui.port\", \"4050\")\n",
    "spark = SparkSession.builder.getOrCreate()\n",
    "\n"
   ],
   "metadata": {
    "collapsed": false,
    "pycharm": {
     "name": "#%%\n"
    }
   }
  },
  {
   "cell_type": "code",
   "execution_count": 3,
   "outputs": [
    {
     "data": {
      "text/plain": "<pyspark.sql.session.SparkSession at 0x7f1556eb55d0>",
      "text/html": "\n            <div>\n                <p><b>SparkSession - in-memory</b></p>\n                \n        <div>\n            <p><b>SparkContext</b></p>\n\n            <p><a href=\"http://192.168.100.108:4040\">Spark UI</a></p>\n\n            <dl>\n              <dt>Version</dt>\n                <dd><code>v2.4.5</code></dd>\n              <dt>Master</dt>\n                <dd><code>local[*]</code></dd>\n              <dt>AppName</dt>\n                <dd><code>pyspark-shell</code></dd>\n            </dl>\n        </div>\n        \n            </div>\n        "
     },
     "execution_count": 3,
     "metadata": {},
     "output_type": "execute_result"
    }
   ],
   "source": [
    "spark\n",
    "\n"
   ],
   "metadata": {
    "collapsed": false,
    "pycharm": {
     "name": "#%%\n"
    }
   }
  },
  {
   "cell_type": "code",
   "execution_count": 4,
   "outputs": [],
   "source": [
    "df_movies = spark.read.load('/home/peder/dev/big-data/movie-recommendation-system/data/movies_metadata.csv',\n",
    "                           format=\"csv\",\n",
    "                           sep=\",\",\n",
    "                           inferSchema=\"true\",\n",
    "                           header=\"true\")"
   ],
   "metadata": {
    "collapsed": false,
    "pycharm": {
     "name": "#%%\n"
    }
   }
  },
  {
   "cell_type": "code",
   "execution_count": 5,
   "outputs": [
    {
     "name": "stdout",
     "output_type": "stream",
     "text": [
      "root\n",
      " |-- adult: string (nullable = true)\n",
      " |-- belongs_to_collection: string (nullable = true)\n",
      " |-- budget: string (nullable = true)\n",
      " |-- genres: string (nullable = true)\n",
      " |-- homepage: string (nullable = true)\n",
      " |-- id: string (nullable = true)\n",
      " |-- imdb_id: string (nullable = true)\n",
      " |-- original_language: string (nullable = true)\n",
      " |-- original_title: string (nullable = true)\n",
      " |-- overview: string (nullable = true)\n",
      " |-- popularity: string (nullable = true)\n",
      " |-- poster_path: string (nullable = true)\n",
      " |-- production_companies: string (nullable = true)\n",
      " |-- production_countries: string (nullable = true)\n",
      " |-- release_date: string (nullable = true)\n",
      " |-- revenue: string (nullable = true)\n",
      " |-- runtime: string (nullable = true)\n",
      " |-- spoken_languages: string (nullable = true)\n",
      " |-- status: string (nullable = true)\n",
      " |-- tagline: string (nullable = true)\n",
      " |-- title: string (nullable = true)\n",
      " |-- video: string (nullable = true)\n",
      " |-- vote_average: string (nullable = true)\n",
      " |-- vote_count: string (nullable = true)\n",
      "\n"
     ]
    }
   ],
   "source": [
    "df_movies.printSchema()\n"
   ],
   "metadata": {
    "collapsed": false,
    "pycharm": {
     "name": "#%%\n"
    }
   }
  },
  {
   "cell_type": "code",
   "execution_count": 6,
   "outputs": [
    {
     "name": "stdout",
     "output_type": "stream",
     "text": [
      "The shape of the dataset is 45572 rows by 24 columns\n"
     ]
    }
   ],
   "source": [
    "print(\"The shape of the dataset is {:d} rows by {:d} columns\".format(df_movies.count(), len(df_movies.columns)))"
   ],
   "metadata": {
    "collapsed": false,
    "pycharm": {
     "name": "#%%\n"
    }
   }
  },
  {
   "cell_type": "code",
   "execution_count": 7,
   "outputs": [
    {
     "name": "stdout",
     "output_type": "stream",
     "text": [
      "498\n",
      "389\n",
      "985\n"
     ]
    }
   ],
   "source": [
    "print(df_movies.filter(col(\"vote_average\").isNull()).count())\n",
    "print(df_movies.filter(col(\"vote_count\").isNull()).count())\n",
    "print(df_movies.filter(col(\"overview\").isNull()).count())"
   ],
   "metadata": {
    "collapsed": false,
    "pycharm": {
     "name": "#%%\n"
    }
   }
  },
  {
   "cell_type": "code",
   "execution_count": 8,
   "outputs": [],
   "source": [
    "df_movies = df_movies.na.drop(subset=[\"vote_average\"])\n",
    "df_movies = df_movies.na.drop(subset=[\"vote_count\"])\n",
    "df_movies = df_movies.na.drop(subset=[\"overview\"])\n"
   ],
   "metadata": {
    "collapsed": false,
    "pycharm": {
     "name": "#%%\n"
    }
   }
  },
  {
   "cell_type": "code",
   "execution_count": 9,
   "outputs": [],
   "source": [
    "df_movies = df_movies.withColumn(\"vote_average\", df_movies[\"vote_average\"].cast(\"double\"))\n",
    "df_movies = df_movies.withColumn(\"vote_count\", df_movies[\"vote_count\"].cast(\"int\"))"
   ],
   "metadata": {
    "collapsed": false,
    "pycharm": {
     "name": "#%%\n"
    }
   }
  },
  {
   "cell_type": "code",
   "execution_count": 10,
   "outputs": [],
   "source": [
    "df_movies = df_movies.filter((df_movies.vote_average >=0) & (df_movies.vote_average<=10))"
   ],
   "metadata": {
    "collapsed": false,
    "pycharm": {
     "name": "#%%\n"
    }
   }
  },
  {
   "cell_type": "code",
   "execution_count": 11,
   "outputs": [
    {
     "name": "stdout",
     "output_type": "stream",
     "text": [
      "+-------+------------------+\n",
      "|summary|      vote_average|\n",
      "+-------+------------------+\n",
      "|  count|             40786|\n",
      "|   mean| 5.612511975530867|\n",
      "| stddev|1.9231620784205472|\n",
      "|    min|               0.0|\n",
      "|    max|              10.0|\n",
      "+-------+------------------+\n",
      "\n"
     ]
    }
   ],
   "source": [
    "df_movies.select(['vote_average']).describe().show()\n"
   ],
   "metadata": {
    "collapsed": false,
    "pycharm": {
     "name": "#%%\n"
    }
   }
  },
  {
   "cell_type": "code",
   "execution_count": 12,
   "outputs": [
    {
     "name": "stdout",
     "output_type": "stream",
     "text": [
      "+-------+-----------------+\n",
      "|summary|       vote_count|\n",
      "+-------+-----------------+\n",
      "|  count|            40760|\n",
      "|   mean|112.1123405299313|\n",
      "| stddev|490.1629388596058|\n",
      "|    min|                0|\n",
      "|    max|            12269|\n",
      "+-------+-----------------+\n",
      "\n"
     ]
    }
   ],
   "source": [
    "df_movies.select(['vote_count']).describe().show()\n"
   ],
   "metadata": {
    "collapsed": false,
    "pycharm": {
     "name": "#%%\n"
    }
   }
  },
  {
   "cell_type": "code",
   "execution_count": 13,
   "outputs": [
    {
     "name": "stdout",
     "output_type": "stream",
     "text": [
      "+---------------------------------------------------------------------------------------------------------------------------------------------------------------------------------------------------------------------------------------------------------------------------------------------------------------+\n",
      "|overview                                                                                                                                                                                                                                                                                                       |\n",
      "+---------------------------------------------------------------------------------------------------------------------------------------------------------------------------------------------------------------------------------------------------------------------------------------------------------------+\n",
      "|Led by Woody, Andy's toys live happily in his room until Andy's birthday brings Buzz Lightyear onto the scene. Afraid of losing his place in Andy's heart, Woody plots against Buzz. But when circumstances separate Buzz and Woody from their owner, the duo eventually learns to put aside their differences.|\n",
      "+---------------------------------------------------------------------------------------------------------------------------------------------------------------------------------------------------------------------------------------------------------------------------------------------------------------+\n",
      "only showing top 1 row\n",
      "\n"
     ]
    }
   ],
   "source": [
    "df_movies.select(['overview']).show(truncate=False, n=1)\n"
   ],
   "metadata": {
    "collapsed": false,
    "pycharm": {
     "name": "#%%\n"
    }
   }
  },
  {
   "cell_type": "code",
   "execution_count": 14,
   "outputs": [],
   "source": [
    "def clean_text(df, column_name=\"content\"):\n",
    "    \"\"\"\n",
    "    This fucntion takes the raw text data and apply a standard NLP preprocessing pipeline consisting of the following steps:\n",
    "      - Text cleaning\n",
    "      - Tokenization\n",
    "      - Stopwords removal\n",
    "      - Stemming (Snowball stemmer)\n",
    "\n",
    "    parameter: dataframe\n",
    "    returns: the input dataframe along with the `cleaned_content` column as the results of the NLP preprocessing pipeline\n",
    "\n",
    "    \"\"\"\n",
    "    from pyspark.sql.functions import udf, col, lower, trim, regexp_replace, concat_ws\n",
    "    from pyspark.ml.feature import Tokenizer, StopWordsRemover\n",
    "    from nltk.stem.snowball import SnowballStemmer\n",
    "\n",
    "    # Text preprocessing pipeline\n",
    "    print(\"***** Text Preprocessing Pipeline *****\\n\")\n",
    "\n",
    "    # 1. Text cleaning\n",
    "    print(\"# 1. Text Cleaning\\n\")\n",
    "    # 1.a Case normalization\n",
    "    print(\"1.a Case normalization:\")\n",
    "    lower_case_news_df = df.select(\"id\", lower(col(column_name)).alias(column_name))\n",
    "    lower_case_news_df.show(10)\n",
    "    # 1.b Trimming\n",
    "    print(\"1.b Trimming:\")\n",
    "    trimmed_news_df = lower_case_news_df.select(\"id\", trim(col(column_name)).alias(column_name))\n",
    "    trimmed_news_df.show(10)\n",
    "    # 1.c Filter out punctuation symbols\n",
    "    print(\"1.c Filter out punctuation:\")\n",
    "    no_punct_news_df = trimmed_news_df.select(\"id\", (regexp_replace(col(column_name), \"[^a-zA-Z\\\\s]\", \"\")).alias(column_name))\n",
    "    no_punct_news_df.show(10)\n",
    "    # 1.d Filter out any internal extra whitespace\n",
    "    print(\"1.d Filter out extra whitespaces:\")\n",
    "    cleaned_news_df = no_punct_news_df.select(\"id\", trim(regexp_replace(col(column_name), \" +\", \" \")).alias(column_name))\n",
    "\n",
    "    # 2. Tokenization (split text into tokens)\n",
    "    print(\"# 2. Tokenization:\")\n",
    "    tokenizer = Tokenizer(inputCol=column_name, outputCol=\"tokens\")\n",
    "    tokens_df = tokenizer.transform(cleaned_news_df)\n",
    "\n",
    "    print(\"# 3. Stopwords removal:\")\n",
    "    stopwords_remover = StopWordsRemover(inputCol=\"tokens\", outputCol=\"terms\")\n",
    "    terms_df = stopwords_remover.transform(tokens_df)\n",
    "\n",
    "    print(\"# 4. Stemming:\")\n",
    "    stemmer = SnowballStemmer(language=\"english\")\n",
    "    stemmer_udf = udf(lambda tokens: [stemmer.stem(token) for token in tokens], ArrayType(StringType()))\n",
    "    terms_stemmed_df = terms_df.withColumn(\"terms_stemmed\", stemmer_udf(\"terms\"))\n",
    "    \n",
    "    print(\"# 5. untokenize\")\n",
    "    terms_joined_df = terms_stemmed_df.withColumn(\"terms_join\", concat_ws(\" \", \"terms_stemmed\"))\n",
    "    return terms_joined_df"
   ],
   "metadata": {
    "collapsed": false,
    "pycharm": {
     "name": "#%%\n"
    }
   }
  },
  {
   "cell_type": "code",
   "execution_count": 15,
   "outputs": [],
   "source": [
    "from pyspark.sql.functions import udf, col, lower, trim, regexp_replace, concat_ws\n",
    "from pyspark.ml.feature import Tokenizer, StopWordsRemover\n",
    "from nltk.stem.snowball import SnowballStemmer\n",
    "\n",
    "def cleanse_text(df):    \n",
    "    lower_df = df.withColumn(\"overview_lower\", lower(col(\"overview\")))\n",
    "    trim_df = lower_df.withColumn(\"overview_trim\", trim(col(\"overview_lower\")))\n",
    "    no_punct_df = trim_df.withColumn(\"overview_no_punct\", regexp_replace(col(\"overview_trim\"), \"[^a-zA-Z\\\\s]\", \"\"))\n",
    "    no_whitespace_df = no_punct_df.withColumn(\"overview_cleansed\", trim(regexp_replace(col(\"overview_no_punct\"), \" +\", \" \")))\n",
    "    return no_whitespace_df, \"overview_cleansed\"                  \n",
    "    \n",
    "def tokenize_text(df, column_name):\n",
    "    tokenizer = Tokenizer(inputCol=column_name, outputCol=\"tokens\")\n",
    "    return tokenizer.transform(df), \"tokens\"\n",
    "\n",
    "def stem_tokens(df, column_name):\n",
    "    stemmer = SnowballStemmer(language=\"english\")\n",
    "    stemmer_udf = udf(lambda tokens: [stemmer.stem(token) for token in tokens], ArrayType(StringType()))\n",
    "    return df.withColumn(\"terms_stemmed\", stemmer_udf(column_name)), \"terms_stemmed\"\n",
    "\n",
    "def remove_stop_words(df, column_name):\n",
    "    stopwords_remover = StopWordsRemover(inputCol=column_name, outputCol=\"terms\")\n",
    "    return stopwords_remover.transform(df)\n",
    "\n",
    "def concat_arr(df, column_name):\n",
    "    return  df.withColumn(\"corpus\", concat_ws(\" \", column_name))\n",
    "\n",
    "def cleaning_pipe(df):\n",
    "    df, column_name = cleanse_text(df)\n",
    "    df, column_name = tokenize_text(df, column_name)\n",
    "    df, column_name = stem_tokens(df, column_name)\n",
    "    return df, column_name"
   ],
   "metadata": {
    "collapsed": false,
    "pycharm": {
     "name": "#%%\n"
    }
   }
  },
  {
   "cell_type": "code",
   "execution_count": 16,
   "outputs": [],
   "source": [
    "#df_clean = clean_text(df_movies, 'overview')\n",
    "#df_clean\n",
    "#from pyspark.ml.feature import Tokenizer\n",
    "#tokenizer = Tokenizer(inputCol=\"overview\", outputCol=\"terms_stemmed\")\n",
    "#tokens_df = tokenizer.transform(df_movies)\n",
    "#df_clean= tokens_df"
   ],
   "metadata": {
    "collapsed": false,
    "pycharm": {
     "name": "#%%\n"
    }
   }
  },
  {
   "cell_type": "code",
   "execution_count": 17,
   "outputs": [],
   "source": [
    "df_clean, column_name = cleaning_pipe(df_movies)\n",
    "\n",
    "df_pandas = concat_arr(df_clean, column_name).toPandas()"
   ],
   "metadata": {
    "collapsed": false,
    "pycharm": {
     "name": "#%%\n"
    }
   }
  },
  {
   "cell_type": "code",
   "execution_count": 18,
   "outputs": [
    {
     "name": "stdout",
     "output_type": "stream",
     "text": [
      "+--------------------+\n",
      "|       terms_stemmed|\n",
      "+--------------------+\n",
      "|[led, by, woodi, ...|\n",
      "|[when, sibl, judi...|\n",
      "|[a, famili, wed, ...|\n",
      "|[just, when, geor...|\n",
      "|[obsess, master, ...|\n",
      "|[an, ugli, duckl,...|\n",
      "|[a, mischiev, you...|\n",
      "|[intern, action, ...|\n",
      "|[jame, bond, must...|\n",
      "|[widow, us, presi...|\n",
      "|[when, a, lawyer,...|\n",
      "|[an, outcast, hal...|\n",
      "|[an, allstar, cas...|\n",
      "|[morgan, adam, an...|\n",
      "|[the, life, of, t...|\n",
      "|[rich, mr, dashwo...|\n",
      "|[it, ted, the, be...|\n",
      "|[summon, from, an...|\n",
      "|[a, veng, new, yo...|\n",
      "|[an, agoraphob, p...|\n",
      "+--------------------+\n",
      "only showing top 20 rows\n",
      "\n"
     ]
    }
   ],
   "source": [
    "df_clean.select(column_name).show()\n"
   ],
   "metadata": {
    "collapsed": false,
    "pycharm": {
     "name": "#%%\n"
    }
   }
  },
  {
   "cell_type": "code",
   "execution_count": 19,
   "outputs": [],
   "source": [
    "#df_clean.select('terms_join').show(truncate=False, n=2)\n",
    "\n"
   ],
   "metadata": {
    "collapsed": false,
    "pycharm": {
     "name": "#%%\n"
    }
   }
  },
  {
   "cell_type": "code",
   "execution_count": 20,
   "outputs": [
    {
     "data": {
      "text/plain": "<40786x60074 sparse matrix of type '<class 'numpy.float64'>'\n\twith 1622711 stored elements in Compressed Sparse Row format>"
     },
     "execution_count": 20,
     "metadata": {},
     "output_type": "execute_result"
    }
   ],
   "source": [
    "from sklearn.metrics.pairwise import cosine_similarity\n",
    "from sklearn.feature_extraction.text import TfidfVectorizer\n",
    "vectorizer = TfidfVectorizer()\n",
    "X = vectorizer.fit_transform(df_pandas['corpus'])"
   ],
   "metadata": {
    "collapsed": false,
    "pycharm": {
     "name": "#%%\n"
    }
   }
  },
  {
   "cell_type": "code",
   "execution_count": 21,
   "outputs": [],
   "source": [
    "df_pandas['tfidf'] = X"
   ],
   "metadata": {
    "collapsed": false,
    "pycharm": {
     "name": "#%%\n"
    }
   }
  },
  {
   "cell_type": "code",
   "execution_count": 22,
   "outputs": [],
   "source": [
    "batman_begins = df_pandas.loc[df_pandas['id'] == '272'].index.item()\n",
    "batman_dark_knight = df_pandas.loc[df_pandas['id'] == '862'].index.item()"
   ],
   "metadata": {
    "collapsed": false,
    "pycharm": {
     "name": "#%%\n"
    }
   }
  },
  {
   "cell_type": "code",
   "execution_count": 23,
   "outputs": [
    {
     "name": "stdout",
     "output_type": "stream",
     "text": [
      "0.022528706587039055\n",
      "0.022528706587039055\n"
     ]
    }
   ],
   "source": [
    "batman_beings_cosine = cosine_similarity(X[batman_begins], X)[0]\n",
    "print(batman_beings_cosine[batman_dark_knight])\n"
   ],
   "metadata": {
    "collapsed": false,
    "pycharm": {
     "name": "#%%\n"
    }
   }
  },
  {
   "cell_type": "code",
   "execution_count": 24,
   "outputs": [
    {
     "data": {
      "text/plain": "40786"
     },
     "execution_count": 24,
     "metadata": {},
     "output_type": "execute_result"
    }
   ],
   "source": [
    "len(batman_beings_cosine)"
   ],
   "metadata": {
    "collapsed": false,
    "pycharm": {
     "name": "#%%\n"
    }
   }
  },
  {
   "cell_type": "code",
   "execution_count": 25,
   "outputs": [
    {
     "data": {
      "text/plain": "(40786, 32)"
     },
     "execution_count": 25,
     "metadata": {},
     "output_type": "execute_result"
    }
   ],
   "source": [
    "df_pandas.shape"
   ],
   "metadata": {
    "collapsed": false,
    "pycharm": {
     "name": "#%%\n"
    }
   }
  },
  {
   "cell_type": "code",
   "execution_count": 45,
   "outputs": [
    {
     "data": {
      "text/plain": "adult                                                                False\nbelongs_to_collection    {'id': 10194, 'name': 'Toy Story Collection', ...\nbudget                                                            30000000\ngenres                   [{'id': 16, 'name': 'Animation'}, {'id': 35, '...\nhomepage                              http://toystory.disney.com/toy-story\nid                                                                     862\nimdb_id                                                          tt0114709\noriginal_language                                                       en\noriginal_title                                                   Toy Story\noverview                 Led by Woody, Andy's toys live happily in his ...\npopularity                                                       21.946943\nposter_path                               /rhIRbceoE9lR4veEXuwCC2wARtG.jpg\nproduction_companies        [{'name': 'Pixar Animation Studios', 'id': 3}]\nproduction_countries     [{'iso_3166_1': 'US', 'name': 'United States o...\nrelease_date                                                    1995-10-30\nrevenue                                                          373554033\nruntime                                                               81.0\nspoken_languages                  [{'iso_639_1': 'en', 'name': 'English'}]\nstatus                                                            Released\ntagline                                                               None\ntitle                                                            Toy Story\nvideo                                                                False\nvote_average                                                           7.7\nvote_count                                                            5415\noverview_lower           led by woody, andy's toys live happily in his ...\noverview_trim            led by woody, andy's toys live happily in his ...\noverview_no_punct        led by woody andys toys live happily in his ro...\noverview_cleansed        led by woody andys toys live happily in his ro...\ntokens                   [led, by, woody, andys, toys, live, happily, i...\nterms_stemmed            [led, by, woodi, andi, toy, live, happili, in,...\ncorpus                   led by woodi andi toy live happili in his room...\ntfidf                      (0, 13114)\\t0.09344973121552867\\n  (0, 2815)...\ncosine_scores                                                    0.0225287\ncosine_score                                                     0.0225287\nName: 0, dtype: object"
     },
     "execution_count": 45,
     "metadata": {},
     "output_type": "execute_result"
    }
   ],
   "source": [
    "def sort_cos_score(matrix, df):\n",
    "    arr = []\n",
    "    for index, row in df.iterrows():\n",
    "        arr.append(matrix[index])\n",
    "    df['cosine_score'] = arr\n",
    "\n",
    "sort_cos_score(batman_beings_cosine, df_pandas)\n",
    "df_pandas.iloc[0]"
   ],
   "metadata": {
    "collapsed": false,
    "pycharm": {
     "name": "#%%\n"
    }
   }
  },
  {
   "cell_type": "code",
   "execution_count": 49,
   "outputs": [
    {
     "data": {
      "text/plain": "9120                                         Batman Begins\n19169    Batman Unmasked: The Psychology of the Dark Kn...\n17892              Batman: The Dark Knight Returns, Part 1\n32412                                    Batman: Bad Blood\n16292                                     Batman: Year One\n39300                                        Batman & Bill\n2771                          Batman: Mask of the Phantasm\n11275                                      The Dark Knight\n14023                           Batman: Under the Red Hood\n40352                             Batman Beyond: The Movie\n1197                                        Batman Returns\n534                                                 Batman\n16491                                The Dark Knight Rises\n135                                         Batman Forever\n3237                                               Serpico\n18290              Batman: The Dark Knight Returns, Part 2\n19808                                      Pillow of Death\n34087                                               Vaesen\n19353                      Batman: Mystery of the Batwoman\n37478                                       Jack Goes Home\nName: original_title, dtype: object"
     },
     "execution_count": 49,
     "metadata": {},
     "output_type": "execute_result"
    }
   ],
   "source": [
    "sorted_df = df_pandas.sort_values(by=['cosine_score'], ascending=False)\n",
    "sorted_df['original_title'].head(20)"
   ],
   "metadata": {
    "collapsed": false,
    "pycharm": {
     "name": "#%%\n"
    }
   }
  },
  {
   "cell_type": "code",
   "execution_count": 27,
   "outputs": [],
   "source": [
    "from pyspark.ml.feature import HashingTF, CountVectorizer, IDF\n",
    "from pyspark.ml import Pipeline\n",
    "\n",
    "cv = CountVectorizer(inputCol=column_name, outputCol=\"tf_features\", vocabSize=20000, minDF=.01, maxDF=.90)\n",
    "idf = IDF(inputCol=\"tf_features\", outputCol=\"features\")\n",
    "\n",
    "pipeline = Pipeline(stages=[cv, idf])\n",
    "features = pipeline.fit(df_clean)\n",
    "tf_idf_df = features.transform(df_clean)"
   ],
   "metadata": {
    "collapsed": false,
    "pycharm": {
     "name": "#%%\n"
    }
   }
  },
  {
   "cell_type": "code",
   "execution_count": 28,
   "outputs": [],
   "source": [
    "@udf(\"long\")\n",
    "def num_nonzeros(v):\n",
    "    return v.numNonzeros()"
   ],
   "metadata": {
    "collapsed": false,
    "pycharm": {
     "name": "#%%\n"
    }
   }
  },
  {
   "cell_type": "code",
   "execution_count": 29,
   "outputs": [
    {
     "name": "stdout",
     "output_type": "stream",
     "text": [
      "Total n. of zero-length vectors: 42\n"
     ]
    }
   ],
   "source": [
    "print(\"Total n. of zero-length vectors: {:d}\".\n",
    "      format(tf_idf_df.where(num_nonzeros(\"features\") == 0).count()))"
   ],
   "metadata": {
    "collapsed": false,
    "pycharm": {
     "name": "#%%\n"
    }
   }
  },
  {
   "cell_type": "code",
   "execution_count": 30,
   "outputs": [],
   "source": [
    "tf_idf_df = tf_idf_df.where(num_nonzeros(\"features\") > 0)"
   ],
   "metadata": {
    "collapsed": false,
    "pycharm": {
     "name": "#%%\n"
    }
   }
  },
  {
   "cell_type": "code",
   "execution_count": 31,
   "outputs": [
    {
     "name": "stdout",
     "output_type": "stream",
     "text": [
      "Total n. of zero-length vectors (after removal): 0\n"
     ]
    }
   ],
   "source": [
    "print(\"Total n. of zero-length vectors (after removal): {:d}\".\n",
    "      format(tf_idf_df.where(num_nonzeros(\"features\") == 0).count()))"
   ],
   "metadata": {
    "collapsed": false,
    "pycharm": {
     "name": "#%%\n"
    }
   }
  },
  {
   "cell_type": "code",
   "execution_count": 32,
   "outputs": [
    {
     "data": {
      "text/plain": "40744"
     },
     "execution_count": 32,
     "metadata": {},
     "output_type": "execute_result"
    }
   ],
   "source": [
    "tf_idf_df.select('features').count()"
   ],
   "metadata": {
    "collapsed": false,
    "pycharm": {
     "name": "#%%\n"
    }
   }
  },
  {
   "cell_type": "code",
   "execution_count": 33,
   "outputs": [
    {
     "name": "stdout",
     "output_type": "stream",
     "text": [
      "root\n",
      " |-- adult: string (nullable = true)\n",
      " |-- belongs_to_collection: string (nullable = true)\n",
      " |-- budget: string (nullable = true)\n",
      " |-- genres: string (nullable = true)\n",
      " |-- homepage: string (nullable = true)\n",
      " |-- id: string (nullable = true)\n",
      " |-- imdb_id: string (nullable = true)\n",
      " |-- original_language: string (nullable = true)\n",
      " |-- original_title: string (nullable = true)\n",
      " |-- overview: string (nullable = true)\n",
      " |-- popularity: string (nullable = true)\n",
      " |-- poster_path: string (nullable = true)\n",
      " |-- production_companies: string (nullable = true)\n",
      " |-- production_countries: string (nullable = true)\n",
      " |-- release_date: string (nullable = true)\n",
      " |-- revenue: string (nullable = true)\n",
      " |-- runtime: string (nullable = true)\n",
      " |-- spoken_languages: string (nullable = true)\n",
      " |-- status: string (nullable = true)\n",
      " |-- tagline: string (nullable = true)\n",
      " |-- title: string (nullable = true)\n",
      " |-- video: string (nullable = true)\n",
      " |-- vote_average: double (nullable = true)\n",
      " |-- vote_count: integer (nullable = true)\n",
      " |-- overview_lower: string (nullable = true)\n",
      " |-- overview_trim: string (nullable = true)\n",
      " |-- overview_no_punct: string (nullable = true)\n",
      " |-- overview_cleansed: string (nullable = true)\n",
      " |-- tokens: array (nullable = true)\n",
      " |    |-- element: string (containsNull = true)\n",
      " |-- terms_stemmed: array (nullable = true)\n",
      " |    |-- element: string (containsNull = true)\n",
      " |-- tf_features: vector (nullable = true)\n",
      " |-- features: vector (nullable = true)\n",
      "\n"
     ]
    }
   ],
   "source": [
    "tf_idf_df.printSchema()\n"
   ],
   "metadata": {
    "collapsed": false,
    "pycharm": {
     "name": "#%%\n"
    }
   }
  },
  {
   "cell_type": "code",
   "execution_count": 34,
   "outputs": [
    {
     "data": {
      "text/plain": "0.6498177078750322"
     },
     "execution_count": 34,
     "metadata": {},
     "output_type": "execute_result"
    }
   ],
   "source": [
    "def cosine_similarity_vec(a, b):\n",
    "    return 1 - a.dot(b)/(a.norm(2)*b.norm(2))\n",
    "\n",
    "def cosine_similarity(id1, id2):\n",
    "    df_1 = tf_idf_df.select(\"features\").where(tf_idf_df.id == id1).first()\n",
    "    df_2 = tf_idf_df.select(\"features\").where(tf_idf_df.id == id2).first()\n",
    "    return cosine_similarity_vec(df_1.features, df_2.features)\n",
    "\n",
    "cosine_similarity(\"238\",\"240\") # toy story 1 and 2"
   ],
   "metadata": {
    "collapsed": false,
    "pycharm": {
     "name": "#%%\n"
    }
   }
  },
  {
   "cell_type": "code",
   "execution_count": 35,
   "outputs": [
    {
     "name": "stdout",
     "output_type": "stream",
     "text": [
      "+-----+----------------+\n",
      "|id   |title           |\n",
      "+-----+----------------+\n",
      "|862  |Toy Story       |\n",
      "|11597|Toys            |\n",
      "|25898|Babes in Toyland|\n",
      "+-----+----------------+\n",
      "only showing top 3 rows\n",
      "\n"
     ]
    }
   ],
   "source": [
    "tf_idf_df.select([\"id\",\"title\"]).filter(lower(tf_idf_df.title).like('%toy%')).show(truncate=False,n=3)"
   ],
   "metadata": {
    "collapsed": false,
    "pycharm": {
     "name": "#%%\n"
    }
   }
  },
  {
   "cell_type": "code",
   "execution_count": 36,
   "outputs": [
    {
     "name": "stdout",
     "output_type": "stream",
     "text": [
      "+------+--------------------------------------------------+\n",
      "|id    |title                                             |\n",
      "+------+--------------------------------------------------+\n",
      "|155   |The Dark Knight                                   |\n",
      "|49026 |The Dark Knight Rises                             |\n",
      "|123025|Batman: The Dark Knight Returns, Part 1           |\n",
      "|142061|Batman: The Dark Knight Returns, Part 2           |\n",
      "|29751 |Batman Unmasked: The Psychology of the Dark Knight|\n",
      "|72003 |The Dark Knight                                   |\n",
      "+------+--------------------------------------------------+\n",
      "\n"
     ]
    }
   ],
   "source": [
    "tf_idf_df.select([\"id\",\"title\"]).filter(lower(tf_idf_df.title).like('%the dark knight%')).show(truncate=False, n=75)\n"
   ],
   "metadata": {
    "collapsed": false,
    "pycharm": {
     "name": "#%%\n"
    }
   }
  },
  {
   "cell_type": "code",
   "execution_count": 36,
   "outputs": [],
   "source": [],
   "metadata": {
    "collapsed": false,
    "pycharm": {
     "name": "#%%\n"
    }
   }
  },
  {
   "cell_type": "code",
   "execution_count": 37,
   "outputs": [],
   "source": [
    "def cos_sim_dataset(movie_vec):\n",
    "    udf_func = udf(lambda df:str(cosine_similarity_vec(movie_vec.features, df)))\n",
    "    return tf_idf_df.withColumn(\"cosine_similarity\", udf_func(\"features\"))"
   ],
   "metadata": {
    "collapsed": false,
    "pycharm": {
     "name": "#%%\n"
    }
   }
  },
  {
   "cell_type": "code",
   "execution_count": 38,
   "outputs": [
    {
     "name": "stdout",
     "output_type": "stream",
     "text": [
      "+------------------+-----+\n",
      "|cosine_similarity |id   |\n",
      "+------------------+-----+\n",
      "|0.9840198875239855|862  |\n",
      "|0.9686641779645443|8844 |\n",
      "|0.9707876211721896|15602|\n",
      "|0.9833849583903742|11862|\n",
      "|0.9750759689823176|949  |\n",
      "+------------------+-----+\n",
      "only showing top 5 rows\n",
      "\n"
     ]
    }
   ],
   "source": [
    "df_vec_batman_forever = tf_idf_df.select(\"features\").where(tf_idf_df.id == \"414\").first()\n",
    "\n",
    "df_similarity = cos_sim_dataset(df_vec_batman_forever)\n",
    "    \n",
    "df_similarity.select([\"cosine_similarity\", \"id\"]).show(truncate=False, n=5)"
   ],
   "metadata": {
    "collapsed": false,
    "pycharm": {
     "name": "#%%\n"
    }
   }
  },
  {
   "cell_type": "code",
   "execution_count": 39,
   "outputs": [
    {
     "data": {
      "text/plain": "Row(title='Jumanji', id='8844', cosine_similarity='0.9686641779645443')"
     },
     "execution_count": 39,
     "metadata": {},
     "output_type": "execute_result"
    }
   ],
   "source": [
    "df_similarity.select([\"title\",\"id\", \"cosine_similarity\"]).where(df_movies.id == \"8844\").first()"
   ],
   "metadata": {
    "collapsed": false,
    "pycharm": {
     "name": "#%%\n"
    }
   }
  },
  {
   "cell_type": "code",
   "execution_count": 40,
   "outputs": [],
   "source": [
    "#df_movies.select([\"id\",\"title\"]).filter(lower(df_movies.title).like('%the godfather%')).show()\n"
   ],
   "metadata": {
    "collapsed": false,
    "pycharm": {
     "name": "#%%\n"
    }
   }
  },
  {
   "cell_type": "code",
   "execution_count": 41,
   "outputs": [],
   "source": [
    "df_similarity = df_similarity.withColumn(\"cosine_similarity\", df_similarity[\"cosine_similarity\"].cast(\"double\"))\n"
   ],
   "metadata": {
    "collapsed": false,
    "pycharm": {
     "name": "#%%\n"
    }
   }
  },
  {
   "cell_type": "code",
   "execution_count": 42,
   "outputs": [
    {
     "name": "stdout",
     "output_type": "stream",
     "text": [
      "+-----------------+------+--------------------+\n",
      "|cosine_similarity|    id|               title|\n",
      "+-----------------+------+--------------------+\n",
      "|              1.0| 52279|         The Dentist|\n",
      "|              1.0|211222|The Wildman of Ke...|\n",
      "|              1.0|  9657|    Otto - The Movie|\n",
      "|              1.0|130957|The Sons of Great...|\n",
      "|              1.0|  1659|Texas - Doc Snyde...|\n",
      "|              1.0|365566|Small People with...|\n",
      "|              1.0|  4948|          Womanlight|\n",
      "|              1.0|  1655|Praxis Dr. Hasenbein|\n",
      "|              1.0|  3102|My Step Brother F...|\n",
      "|              1.0|121170|          Simply Raw|\n",
      "|              1.0|113660|              Rumble|\n",
      "|              1.0|  4290|          Supergator|\n",
      "|              1.0|  9379|Otto - The Alien ...|\n",
      "|              1.0|342695|        Cannibal Fog|\n",
      "|              1.0| 12696|            Hierankl|\n",
      "|              1.0| 16884|Anders Matthesen:...|\n",
      "|              1.0|191427|The House of Dark...|\n",
      "|              1.0|270650|Oy Vey! My Son Is...|\n",
      "|              1.0| 30641|        Grizzly Rage|\n",
      "|              1.0|  7237|Wizards of the Lo...|\n",
      "+-----------------+------+--------------------+\n",
      "only showing top 20 rows\n",
      "\n"
     ]
    }
   ],
   "source": [
    "df_similarity.orderBy('cosine_similarity', ascending=False).select([\"cosine_similarity\", \"id\", \"title\"]).show()"
   ],
   "metadata": {
    "collapsed": false,
    "pycharm": {
     "name": "#%%\n"
    }
   }
  },
  {
   "cell_type": "code",
   "execution_count": 42,
   "outputs": [],
   "source": [],
   "metadata": {
    "collapsed": false,
    "pycharm": {
     "name": "#%%\n"
    }
   }
  },
  {
   "cell_type": "code",
   "execution_count": 43,
   "outputs": [
    {
     "name": "stdout",
     "output_type": "stream",
     "text": [
      "+------------------+-----+\n",
      "| cosine_similarity|count|\n",
      "+------------------+-----+\n",
      "|               1.0|  326|\n",
      "|0.9999213347225796|    1|\n",
      "| 0.999893976010199|    1|\n",
      "|0.9998904979463532|    1|\n",
      "|0.9998851437309468|    1|\n",
      "|0.9998822752801851|    1|\n",
      "|0.9998798629071319|    1|\n",
      "|0.9998766481345249|    1|\n",
      "|0.9998701623832511|    1|\n",
      "|0.9998689641002112|    1|\n",
      "+------------------+-----+\n",
      "only showing top 10 rows\n",
      "\n"
     ]
    }
   ],
   "source": [
    "df_similarity.groupby([\"cosine_similarity\"]).count().sort(\"cosine_similarity\", ascending=False).show(10)\n"
   ],
   "metadata": {
    "collapsed": false,
    "pycharm": {
     "name": "#%%\n"
    }
   }
  },
  {
   "cell_type": "code",
   "execution_count": 43,
   "outputs": [],
   "source": [],
   "metadata": {
    "collapsed": false,
    "pycharm": {
     "name": "#%%\n"
    }
   }
  },
  {
   "cell_type": "code",
   "execution_count": 43,
   "outputs": [],
   "source": [],
   "metadata": {
    "collapsed": false,
    "pycharm": {
     "name": "#%%\n"
    }
   }
  },
  {
   "cell_type": "code",
   "execution_count": 43,
   "outputs": [],
   "source": [],
   "metadata": {
    "collapsed": false,
    "pycharm": {
     "name": "#%%\n"
    }
   }
  },
  {
   "cell_type": "code",
   "execution_count": 43,
   "outputs": [],
   "source": [],
   "metadata": {
    "collapsed": false,
    "pycharm": {
     "name": "#%%\n"
    }
   }
  }
 ],
 "metadata": {
  "kernelspec": {
   "display_name": "Python 3",
   "language": "python",
   "name": "python3"
  },
  "language_info": {
   "codemirror_mode": {
    "name": "ipython",
    "version": 3
   },
   "file_extension": ".py",
   "mimetype": "text/x-python",
   "name": "python",
   "nbconvert_exporter": "python",
   "pygments_lexer": "ipython3",
   "version": "3.7.6"
  }
 },
 "nbformat": 4,
 "nbformat_minor": 1
}